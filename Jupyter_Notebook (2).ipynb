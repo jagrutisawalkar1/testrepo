{
  "metadata": {
    "kernelspec": {
      "name": "python",
      "display_name": "Pyolite",
      "language": "python"
    },
    "language_info": {
      "codemirror_mode": {
        "name": "python",
        "version": 3
      },
      "file_extension": ".py",
      "mimetype": "text/x-python",
      "name": "python",
      "nbconvert_exporter": "python",
      "pygments_lexer": "ipython3",
      "version": "3.8"
    }
  },
  "nbformat_minor": 4,
  "nbformat": 4,
  "cells": [
    {
      "cell_type": "markdown",
      "source": "# My Jupyter Notebook on IBM Waston studio\n\n#### Jagruti Sawalkar\n\n100% Human",
      "metadata": {}
    },
    {
      "cell_type": "markdown",
      "source": "*I am interested in data science because data i want to become a datascietist under the industry of Real Estate ,I want to be able help clients to make make best real Estate investments , having huge command of Data science it will personally help me to make good business decisions.*",
      "metadata": {}
    },
    {
      "cell_type": "markdown",
      "source": "__The following code tests the Gauss formula__",
      "metadata": {}
    },
    {
      "cell_type": "code",
      "source": "def gauss(n):\n    return (n*(n+1))/2\ngauss(100) == sum(range(101))",
      "metadata": {
        "tags": [],
        "trusted": true
      },
      "execution_count": 4,
      "outputs": [
        {
          "execution_count": 4,
          "output_type": "execute_result",
          "data": {
            "text/plain": "True"
          },
          "metadata": {}
        }
      ]
    },
    {
      "cell_type": "markdown",
      "source": "#### Exploring places \n\n-  Kashmir\n-  Leh\n-  Gokarna\n-  Goa\n-  Assam\n-  Coorg\n",
      "metadata": {}
    },
    {
      "cell_type": "markdown",
      "source": "\n                                                         Needs\t    Wants\n                                                         Water\t    Car\n                                                         Food\t     Phone\n                                                         Education\tComputer\n                                                         Medicine\t Television\n",
      "metadata": {}
    },
    {
      "cell_type": "code",
      "source": "",
      "metadata": {},
      "execution_count": null,
      "outputs": []
    }
  ]
}